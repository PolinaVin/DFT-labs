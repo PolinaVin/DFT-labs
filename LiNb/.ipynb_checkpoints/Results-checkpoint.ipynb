{
 "cells": [
  {
   "cell_type": "code",
   "execution_count": 1,
   "id": "78b86f5d",
   "metadata": {},
   "outputs": [],
   "source": [
    "import numpy as np\n",
    "import matplotlib.pyplot as plt"
   ]
  },
  {
   "cell_type": "code",
   "execution_count": 20,
   "id": "ea421ae0",
   "metadata": {},
   "outputs": [
    {
     "data": {
      "text/plain": [
       "38.01291666666667"
      ]
     },
     "execution_count": 20,
     "metadata": {},
     "output_type": "execute_result"
    }
   ],
   "source": [
    "\n",
    "\n",
    "\n",
    "E_ent = -() / 2 + E_Li2O / 6\n",
    "\n",
    "E_ent"
   ]
  },
  {
   "cell_type": "code",
   "execution_count": 14,
   "id": "fe425f30",
   "metadata": {},
   "outputs": [
    {
     "name": "stdout",
     "output_type": "stream",
     "text": [
      "E_Nb = -10.075\n",
      "E_LN = -39.71\n",
      "E_Li = -1.9075\n",
      "E_O2 = -4.42\n",
      "E_Li2O = -14.36\n",
      "E_Nb2O5 = -62.93\n",
      "LB_ent = -14.47\n",
      "Li2O_ent = -6.13\n",
      "Nb2O5_ent = -20.68\n"
     ]
    }
   ],
   "source": [
    "E_Nb = - 20.15 / 2\n",
    "print('E_Nb =', E_Nb)\n",
    "\n",
    "E_LN = - 238.26 / 6\n",
    "print('E_LN =', E_LN)\n",
    "\n",
    "E_Li = - 7.63 / 4\n",
    "print('E_Li =', E_Li)\n",
    "\n",
    "E_O = - 8.84 / 2\n",
    "print('E_O2 =', E_O2)\n",
    "\n",
    "E_Li2O = -57.45 / 4\n",
    "print('E_Li2O = {:0.02f}'.format(E_Li2O))\n",
    "\n",
    "E_Nb2O5 = -125.86 / 2\n",
    "print('E_Nb2O5 = {:0.02f}'.format(E_Nb2O5))\n",
    "\n",
    "LB_ent = - (E_Nb + E_Li + 3 * E_O) + E_LN\n",
    "print('LB_ent = {:0.02f}'.format(LB_ent))\n",
    "\n",
    "Li2O_ent = - (E_Li * 2 + E_O) + E_Li2O\n",
    "print('Li2O_ent = {:0.02f}'.format(Li2O_ent))\n",
    "\n",
    "Nb2O5_ent = - (E_Nb * 2 + 5 * E_O) + E_Nb2O5\n",
    "print('Nb2O5_ent = {:0.02f}'.format(Nb2O5_ent))"
   ]
  },
  {
   "cell_type": "code",
   "execution_count": 27,
   "id": "b05c7a18",
   "metadata": {},
   "outputs": [
    {
     "data": {
      "text/plain": [
       "2.4310344827586206"
      ]
     },
     "execution_count": 27,
     "metadata": {},
     "output_type": "execute_result"
    }
   ],
   "source": [
    "14.1/5.8"
   ]
  },
  {
   "cell_type": "code",
   "execution_count": null,
   "id": "99b10899",
   "metadata": {},
   "outputs": [],
   "source": []
  }
 ],
 "metadata": {
  "kernelspec": {
   "display_name": "Python 3",
   "language": "python",
   "name": "python3"
  },
  "language_info": {
   "codemirror_mode": {
    "name": "ipython",
    "version": 3
   },
   "file_extension": ".py",
   "mimetype": "text/x-python",
   "name": "python",
   "nbconvert_exporter": "python",
   "pygments_lexer": "ipython3",
   "version": "3.8.8"
  }
 },
 "nbformat": 4,
 "nbformat_minor": 5
}
